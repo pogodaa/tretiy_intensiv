{
 "cells": [
  {
   "cell_type": "markdown",
   "metadata": {},
   "source": [
    "Импорт библиотек"
   ]
  },
  {
   "cell_type": "code",
   "execution_count": 1002,
   "metadata": {},
   "outputs": [],
   "source": [
    "import pandas as pd\n",
    "import numpy as np\n",
    "import pickle"
   ]
  },
  {
   "cell_type": "markdown",
   "metadata": {},
   "source": [
    "Загрузка файлов"
   ]
  },
  {
   "cell_type": "code",
   "execution_count": 1003,
   "metadata": {},
   "outputs": [],
   "source": [
    "# Загрузка моделей\n",
    "with open('models/catboost_model.pkl', 'rb') as f:\n",
    "    catboost_model = pickle.load(f)\n",
    "\n",
    "with open('models/xgboost_model.pkl', 'rb') as f:\n",
    "    xgboost_model = pickle.load(f)\n",
    "\n",
    "with open('models/randomforest_model.pkl', 'rb') as f:\n",
    "    randomforest_model = pickle.load(f)\n",
    "\n",
    "# Загрузка тестовых данных\n",
    "test_data = pd.read_excel('data/test_prepared.xlsx')"
   ]
  },
  {
   "cell_type": "markdown",
   "metadata": {},
   "source": [
    "Прогнозирование"
   ]
  },
  {
   "cell_type": "code",
   "execution_count": 1004,
   "metadata": {},
   "outputs": [
    {
     "name": "stdout",
     "output_type": "stream",
     "text": [
      "Рекомендуемый объем тендера на арматуру для тестовых данных на основе CatBoost: [9, 10, 11, 12, 12, 16, 16, 15, 14, 12, 12, 12, 14, 13, 13, 13, 13, 12, 11, 9, 6, 3, 3]\n",
      "\n",
      "******************************************************************\n",
      "\n",
      "Предсказанные цены на тестовом наборе для CatBoost: [45644 44999 44401 43342 43474 39314 39183 40073 40815 42759 42634 42634\n",
      " 41004 41781 41700 41781 41781 43132 44011 46222 49445 53719 54603]\n",
      "\n",
      "Фактические цены на тестовом наборе: [45000 44000 43000 42000 41500 41000 40000 40000 40500 41700 41700 42500\n",
      " 42700 42700 42700 42800 42800 44500 44500 46000 49200 53700 55500]\n",
      "\n",
      "Разницы между предсказанными и фактическими значениями: [  644   999  1401  1342  1974 -1686  -817    73   315  1059   934   134\n",
      " -1696  -919 -1000 -1019 -1019 -1368  -489   222   245    19  -897]\n",
      "\n",
      "Столбец объёма CatBoost, успешно добавлен!\n",
      "\n",
      "******************************************************************\n",
      "\n",
      "Рекомендуемый объем тендера на арматуру для тестовых данных на основе XGBoost: [10, 11, 11, 13, 13, 13, 15, 15, 15, 14, 13, 13, 12, 13, 13, 13, 13, 12, 12, 9, 6, 3, 3]\n",
      "\n",
      "******************************************************************\n",
      "\n",
      "Предсказанные цены на тестовом наборе для XGBoost: [45216 44002 43666 41681 41507 41587 39614 39566 40254 41258 41928 42364\n",
      " 42594 42438 42432 42390 42381 43221 43328 46197 49045 51658 54994]\n",
      "\n",
      "Фактические цены на тестовом наборе: [45000 44000 43000 42000 41500 41000 40000 40000 40500 41700 41700 42500\n",
      " 42700 42700 42700 42800 42800 44500 44500 46000 49200 53700 55500]\n",
      "\n",
      "Разницы между предсказанными и фактическими значениями: [  216     2   666  -319     7   587  -386  -434  -246  -442   228  -136\n",
      "  -106  -262  -268  -410  -419 -1279 -1172   197  -155 -2042  -506]\n",
      "\n",
      "Столбец объёма XGBoost, успешно добавлен!\n",
      "\n",
      "******************************************************************\n",
      "\n",
      "Рекомендуемый объем тендера на арматуру для тестовых данных на основе RandomForest: [9, 10, 11, 13, 13, 14, 15, 15, 15, 14, 13, 12, 12, 12, 12, 12, 12, 11, 11, 9, 8, 5, 3]\n",
      "\n",
      "******************************************************************\n",
      "\n",
      "Предсказанные цены на тестовом наборе для RandomForest: [45701 45159 43656 42432 41896 41434 39732 39679 40184 41393 42299 42549\n",
      " 42707 42664 42636 42662 42652 43639 44323 46175 47367 50175 54574]\n",
      "\n",
      "Фактические цены на тестовом наборе: [45000 44000 43000 42000 41500 41000 40000 40000 40500 41700 41700 42500\n",
      " 42700 42700 42700 42800 42800 44500 44500 46000 49200 53700 55500]\n",
      "\n",
      "Разницы между предсказанными и фактическими значениями: [  701  1159   656   432   396   434  -268  -321  -316  -307   599    49\n",
      "     7   -36   -64  -138  -148  -861  -177   175 -1833 -3525  -926]\n",
      "\n",
      "Столбец объёма RandomForest, успешно добавлен!\n",
      "\n",
      "******************************************************************\n",
      "\n"
     ]
    }
   ],
   "source": [
    "# Подготовка данных для теста\n",
    "X_test = test_data.drop(columns=[\"dt\", \"Цена на арматуру\"])\n",
    "y_test = test_data[\"Цена на арматуру\"]\n",
    "\n",
    "# Получение предсказаний для всех моделей\n",
    "y_pred_catboost = catboost_model.predict(X_test)\n",
    "y_pred_xgboost = xgboost_model.predict(X_test)\n",
    "y_pred_rf = randomforest_model.predict(X_test)\n",
    "\n",
    "# Округление предсказанных значений и сохранение в массив\n",
    "y_pred_catboost = np.round(y_pred_catboost).astype(int)\n",
    "y_pred_xgboost = np.round(y_pred_xgboost).astype(int)\n",
    "y_pred_rf = np.round(y_pred_rf).astype(int)\n",
    "\n",
    "# Массив предсказанных значений\n",
    "predictions = [y_pred_catboost, y_pred_xgboost, y_pred_rf]\n",
    "model_names = ['CatBoost', 'XGBoost', 'RandomForest']\n",
    "\n",
    "# Функция для рекомендации объема тендера\n",
    "def main_recommend_tender_volume_(predictions, model_names, test_data):\n",
    "    def perenos_():\n",
    "        print('\\n******************************************************************\\n')\n",
    "\n",
    "    def recommend_tender_volume(predicted_price, current_price):\n",
    "        if predicted_price < current_price * 0.95:\n",
    "            return max(1, int((current_price - predicted_price) / 1000))\n",
    "        elif predicted_price > current_price * 1.05:\n",
    "            return max(6, int((predicted_price - current_price) / 1000))\n",
    "        else:\n",
    "            return 3\n",
    "\n",
    "    current_price = test_data['Цена на арматуру'].iloc[-1]  # цена на арматуру сегодня\n",
    "\n",
    "    for preds, model_name in zip(predictions, model_names):\n",
    "        recommended_volumes = []\n",
    "\n",
    "        # Вычисление тендера\n",
    "        for predicted_price in preds:\n",
    "            recommended_volume = recommend_tender_volume(predicted_price, current_price)\n",
    "            recommended_volumes.append(recommended_volume)\n",
    "\n",
    "        differences = preds - y_test.values\n",
    "        \n",
    "        # Проверка предсказанных значений\n",
    "        print(f\"Рекомендуемый объем тендера на арматуру для тестовых данных на основе {model_name}: {recommended_volumes}\")\n",
    "        perenos_()\n",
    "        print(f\"Предсказанные цены на тестовом наборе для {model_name}: {preds}\\n\")\n",
    "        print(f\"Фактические цены на тестовом наборе: {y_test.values}\\n\")\n",
    "        print(f\"Разницы между предсказанными и фактическими значениями: {differences}\\n\")\n",
    "\n",
    "        # Добавление рекомендаций в test_data\n",
    "        test_data[f'Объём {model_name}'] = recommended_volumes\n",
    "        print(f\"Столбец объёма {model_name}, успешно добавлен!\")\n",
    "        perenos_()\n",
    "\n",
    "# Вызов функции\n",
    "main_recommend_tender_volume_(predictions, model_names, test_data)"
   ]
  },
  {
   "cell_type": "markdown",
   "metadata": {},
   "source": [
    "Сохранение результатов"
   ]
  },
  {
   "cell_type": "code",
   "execution_count": 1005,
   "metadata": {},
   "outputs": [],
   "source": [
    "# Оставляем только нужные столбцы\n",
    "columns_to_keep = ['dt', 'Цена на арматуру', 'Объём CatBoost', 'Объём XGBoost', 'Объём RandomForest']\n",
    "test_data_filtered = test_data[columns_to_keep]\n",
    "\n",
    "# Сохранение обновленного DataFrame в test.xlsx\n",
    "test_data_filtered.to_excel('data/test.xlsx', index=False)"
   ]
  },
  {
   "cell_type": "markdown",
   "metadata": {},
   "source": [
    "1. CatBoost: Модель показывает хорошую производительность, но имеются значительные расхождения в предсказаниях, особенно в случае высоких разниц.\n",
    "\n",
    "2. XGBoost: Модель работает достаточно хорошо, с меньшими расхождениями, чем CatBoost, что указывает на её эффективность.\n",
    "\n",
    "3. RandomForest: Модель также показывает хорошие результаты, но наблюдаются большие расхождения, особенно в некоторых предсказаниях.\n",
    "\n",
    "Вывод: XGBoost лучшая модель"
   ]
  }
 ],
 "metadata": {
  "language_info": {
   "name": "python"
  }
 },
 "nbformat": 4,
 "nbformat_minor": 2
}
