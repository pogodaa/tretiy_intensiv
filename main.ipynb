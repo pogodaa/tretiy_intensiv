{
 "cells": [
  {
   "cell_type": "code",
   "execution_count": 13,
   "metadata": {},
   "outputs": [],
   "source": [
    "import pandas as pd"
   ]
  },
  {
   "cell_type": "code",
   "execution_count": 14,
   "metadata": {},
   "outputs": [],
   "source": [
    "def perenos_():\n",
    "      print('\\n******************************************************************\\n')"
   ]
  },
  {
   "cell_type": "code",
   "execution_count": 15,
   "metadata": {},
   "outputs": [
    {
     "name": "stdout",
     "output_type": "stream",
     "text": [
      "            dt  Цена на арматуру\n",
      "0   2015-01-05             32900\n",
      "1   2015-01-12             32500\n",
      "2   2015-01-19             32000\n",
      "3   2015-01-26             30700\n",
      "4   2015-02-02             30300\n",
      "..         ...               ...\n",
      "395 2022-08-01             47500\n",
      "396 2022-08-08             49000\n",
      "397 2022-08-15             47500\n",
      "398 2022-08-22             46500\n",
      "399 2022-08-29             46000\n",
      "\n",
      "[400 rows x 2 columns]\n",
      "\n",
      "******************************************************************\n",
      "\n",
      "           dt  Цена на арматуру\n",
      "0  2022-09-05             46000\n",
      "1  2022-09-12             46000\n",
      "2  2022-09-19             46000\n",
      "3  2022-09-26             45500\n",
      "4  2022-10-03             45500\n",
      "5  2022-10-10             45000\n",
      "6  2022-10-17             44000\n",
      "7  2022-10-24             43000\n",
      "8  2022-10-31             42000\n",
      "9  2022-11-07             41500\n",
      "10 2022-11-14             41000\n",
      "11 2022-11-21             40000\n",
      "12 2022-11-28             40000\n",
      "13 2022-12-05             40500\n",
      "14 2022-12-12             41700\n",
      "15 2022-12-19             41700\n",
      "16 2022-12-26             42500\n",
      "17 2023-01-02             42700\n",
      "18 2023-01-09             42700\n",
      "19 2023-01-16             42700\n",
      "20 2023-01-23             42800\n",
      "21 2023-01-30             42800\n",
      "22 2023-02-06             44500\n",
      "23 2023-02-13             44500\n",
      "24 2023-02-20             46000\n",
      "25 2023-02-27             49200\n",
      "26 2023-03-06             53700\n",
      "27 2023-03-13             55500\n"
     ]
    }
   ],
   "source": [
    "train = pd.read_excel(\"data/train.xlsx\")\n",
    "test = pd.read_excel(\"data/test.xlsx\")\n",
    "\n",
    "print(train)\n",
    "perenos_()\n",
    "print(test)"
   ]
  }
 ],
 "metadata": {
  "kernelspec": {
   "display_name": "Python 3",
   "language": "python",
   "name": "python3"
  },
  "language_info": {
   "codemirror_mode": {
    "name": "ipython",
    "version": 3
   },
   "file_extension": ".py",
   "mimetype": "text/x-python",
   "name": "python",
   "nbconvert_exporter": "python",
   "pygments_lexer": "ipython3",
   "version": "3.12.3"
  }
 },
 "nbformat": 4,
 "nbformat_minor": 2
}
