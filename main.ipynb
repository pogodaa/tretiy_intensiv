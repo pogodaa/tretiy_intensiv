{
 "cells": [
  {
   "cell_type": "markdown",
   "metadata": {},
   "source": [
    "### Импорт библиотек"
   ]
  },
  {
   "cell_type": "code",
   "execution_count": 2,
   "metadata": {},
   "outputs": [],
   "source": [
    "import pandas as pd\n",
    "import numpy as np\n",
    "import pickle"
   ]
  },
  {
   "cell_type": "markdown",
   "metadata": {},
   "source": [
    "### Загрузка файлов"
   ]
  },
  {
   "cell_type": "code",
   "execution_count": 3,
   "metadata": {},
   "outputs": [],
   "source": [
    "# Загрузка моделей\n",
    "with open('models/catboost_model.pkl', 'rb') as f:\n",
    "    catboost_model = pickle.load(f)\n",
    "\n",
    "with open('models/xgboost_model.pkl', 'rb') as f:\n",
    "    xgboost_model = pickle.load(f)\n",
    "\n",
    "with open('models/randomforest_model.pkl', 'rb') as f:\n",
    "    randomforest_model = pickle.load(f)\n",
    "\n",
    "# Загрузка тестовых данных\n",
    "test_data = pd.read_excel('data/test_prepared.xlsx')"
   ]
  },
  {
   "cell_type": "markdown",
   "metadata": {},
   "source": [
    "### Прогнозирование"
   ]
  },
  {
   "cell_type": "code",
   "execution_count": 4,
   "metadata": {},
   "outputs": [],
   "source": [
    "# # Подготовка данных для теста\n",
    "# X_test = test_data.drop(columns=[\"dt\", \"Цена на арматуру\"])\n",
    "# y_test = test_data[\"Цена на арматуру\"]\n",
    "\n",
    "# # Получение предсказаний для всех моделей\n",
    "# y_pred_catboost = catboost_model.predict(X_test)\n",
    "# y_pred_xgboost = xgboost_model.predict(X_test)\n",
    "# y_pred_rf = randomforest_model.predict(X_test)\n",
    "\n",
    "# # Округление предсказанных значений и сохранение в массив\n",
    "# y_pred_catboost = np.round(y_pred_catboost).astype(int)\n",
    "# y_pred_xgboost = np.round(y_pred_xgboost).astype(int)\n",
    "# y_pred_rf = np.round(y_pred_rf).astype(int)\n",
    "\n",
    "# # Массив предсказанных значений\n",
    "# predictions = [y_pred_catboost, y_pred_xgboost, y_pred_rf]\n",
    "# model_names = ['CatBoost', 'XGBoost', 'RandomForest']\n",
    "\n",
    "# # Функция для рекомендации объема тендера\n",
    "# def main_recommend_tender_volume_(predictions, model_names, test_data):\n",
    "#     def perenos_():\n",
    "#         print('\\n******************************************************************\\n')\n",
    "\n",
    "#     def recommend_tender_volume(predicted_price, current_price):\n",
    "#         if predicted_price < current_price * 0.95:\n",
    "#             return max(1, int((current_price - predicted_price) / 1000))\n",
    "#         elif predicted_price > current_price * 1.05:\n",
    "#             return max(6, int((predicted_price - current_price) / 1000))\n",
    "#         else:\n",
    "#             return 3\n",
    "\n",
    "#     current_price = test_data['Цена на арматуру'].iloc[-1]  # цена на арматуру сегодня\n",
    "\n",
    "#     for preds, model_name in zip(predictions, model_names):\n",
    "#         recommended_volumes = []\n",
    "\n",
    "#         # Вычисление тендера\n",
    "#         for predicted_price in preds:\n",
    "#             recommended_volume = recommend_tender_volume(predicted_price, current_price)\n",
    "#             recommended_volumes.append(recommended_volume)\n",
    "\n",
    "#         differences = preds - y_test.values\n",
    "        \n",
    "#         # Проверка предсказанных значений\n",
    "#         print(f\"Рекомендуемый объем тендера на арматуру для тестовых данных на основе {model_name}: {recommended_volumes}\")\n",
    "#         perenos_()\n",
    "#         print(f\"Предсказанные цены на тестовом наборе для {model_name}: {preds}\\n\")\n",
    "#         print(f\"Фактические цены на тестовом наборе: {y_test.values}\\n\")\n",
    "#         print(f\"Разницы между предсказанными и фактическими значениями: {differences}\\n\")\n",
    "\n",
    "#         # Добавление рекомендаций в test_data\n",
    "#         test_data[f'Объём {model_name}'] = recommended_volumes\n",
    "#         print(f\"Столбец объёма {model_name}, успешно добавлен!\")\n",
    "#         perenos_()\n",
    "\n",
    "# # Вызов функции\n",
    "# main_recommend_tender_volume_(predictions, model_names, test_data)"
   ]
  },
  {
   "cell_type": "code",
   "execution_count": 5,
   "metadata": {},
   "outputs": [
    {
     "ename": "NameError",
     "evalue": "name 'model' is not defined",
     "output_type": "error",
     "traceback": [
      "\u001b[1;31m---------------------------------------------------------------------------\u001b[0m",
      "\u001b[1;31mNameError\u001b[0m                                 Traceback (most recent call last)",
      "Cell \u001b[1;32mIn[5], line 21\u001b[0m\n\u001b[0;32m     19\u001b[0m     \u001b[38;5;28mprint\u001b[39m(\u001b[38;5;124m\"\u001b[39m\u001b[38;5;124mВведите число от 1 до 6!\u001b[39m\u001b[38;5;124m\"\u001b[39m)\n\u001b[0;32m     20\u001b[0m \u001b[38;5;28;01melse\u001b[39;00m:\n\u001b[1;32m---> 21\u001b[0m     future_predictions \u001b[38;5;241m=\u001b[39m predict_future(\u001b[43mmodel\u001b[49m, ca, N, [\u001b[38;5;124m'\u001b[39m\u001b[38;5;124mГод\u001b[39m\u001b[38;5;124m'\u001b[39m, \u001b[38;5;124m'\u001b[39m\u001b[38;5;124mНомер_недели\u001b[39m\u001b[38;5;124m'\u001b[39m, \u001b[38;5;124m'\u001b[39m\u001b[38;5;124mЦена_на_арматуру_lag1\u001b[39m\u001b[38;5;124m'\u001b[39m, \u001b[38;5;124m'\u001b[39m\u001b[38;5;124mЦена_на_арматуру_lag2\u001b[39m\u001b[38;5;124m'\u001b[39m])\n\u001b[0;32m     22\u001b[0m     \u001b[38;5;28mprint\u001b[39m(\u001b[38;5;124mf\u001b[39m\u001b[38;5;124m\"\u001b[39m\u001b[38;5;124mПрогноз на \u001b[39m\u001b[38;5;132;01m{\u001b[39;00mN\u001b[38;5;132;01m}\u001b[39;00m\u001b[38;5;124m недель вперед: \u001b[39m\u001b[38;5;132;01m{\u001b[39;00mfuture_predictions\u001b[38;5;132;01m}\u001b[39;00m\u001b[38;5;124m\"\u001b[39m)\n",
      "\u001b[1;31mNameError\u001b[0m: name 'model' is not defined"
     ]
    }
   ],
   "source": [
    "def predict_future(model, ca, N, features):\n",
    "    future_predictions = []\n",
    "    last_row = ca.iloc[-1][features].values.reshape(1, -1)\n",
    "    \n",
    "    for i in range(N):\n",
    "        pred = model.predict(last_row)\n",
    "        future_predictions.append(pred[0])\n",
    "        \n",
    "        last_row = last_row.copy()\n",
    "        last_row[0, features.index('Номер_недели')] += 1  \n",
    "        last_row[0, features.index('Год')] = ca['Год'].iloc[-1]  \n",
    "        last_row[0, features.index('Цена_на_арматуру_lag2')] = last_row[0, features.index('Цена_на_арматуру_lag1')]\n",
    "        last_row[0, features.index('Цена_на_арматуру_lag1')] = pred  \n",
    "\n",
    "    return future_predictions\n",
    "\n",
    "N = int(input(\"Введите количество недель для предсказания (от 1 до 6): \"))\n",
    "if N < 1 or N > 6:\n",
    "    print(\"Введите число от 1 до 6!\")\n",
    "else:\n",
    "    future_predictions = predict_future(model, ca, N, ['Год', 'Номер_недели', 'Цена_на_арматуру_lag1', 'Цена_на_арматуру_lag2'])\n",
    "    print(f\"Прогноз на {N} недель вперед: {future_predictions}\")"
   ]
  },
  {
   "cell_type": "code",
   "execution_count": null,
   "metadata": {},
   "outputs": [],
   "source": [
    "plt.figure(figsize=(10, 6))\n",
    "plt.plot(ca['dt'], y, label='Реальные значения', color='blue')\n",
    "\n",
    "future_dates = pd.date_range(start=ca['dt'].iloc[-1] + pd.Timedelta(weeks=1), periods=N, freq='W-MON')\n",
    "\n",
    "plt.plot(future_dates, future_predictions, label='Предсказанные значения', color='red', linestyle='-')\n",
    "\n",
    "plt.xlabel('Дата')\n",
    "plt.ylabel('Цена на арматуру')\n",
    "plt.title(f'{N} недель вперед')\n",
    "plt.legend()\n",
    "plt.xticks(rotation=45)\n",
    "plt.show()"
   ]
  },
  {
   "cell_type": "markdown",
   "metadata": {},
   "source": [
    "Сохранение результатов"
   ]
  },
  {
   "cell_type": "code",
   "execution_count": null,
   "metadata": {},
   "outputs": [],
   "source": [
    "# Оставляем только нужные столбцы\n",
    "columns_to_keep = ['dt', 'Цена на арматуру', 'Объём CatBoost', 'Объём XGBoost', 'Объём RandomForest']\n",
    "test_data_filtered = test_data[columns_to_keep]\n",
    "\n",
    "# Сохранение обновленного DataFrame в test.xlsx\n",
    "test_data_filtered.to_excel('data/test_done.xlsx', index=False)"
   ]
  },
  {
   "cell_type": "markdown",
   "metadata": {},
   "source": [
    "### Выводы\n",
    "\n",
    "1. CatBoost: Модель показывает хорошую производительность, но имеются значительные расхождения в предсказаниях, особенно в случае высоких разниц.\n",
    "\n",
    "2. XGBoost: Модель работает достаточно хорошо, с меньшими расхождениями, чем CatBoost, что указывает на её эффективность.\n",
    "\n",
    "3. RandomForest: Модель также показывает хорошие результаты, но наблюдаются большие расхождения, особенно в некоторых предсказаниях.\n",
    "\n",
    "Вывод: XGBoost лучшая модель"
   ]
  }
 ],
 "metadata": {
  "kernelspec": {
   "display_name": "Python 3",
   "language": "python",
   "name": "python3"
  },
  "language_info": {
   "codemirror_mode": {
    "name": "ipython",
    "version": 3
   },
   "file_extension": ".py",
   "mimetype": "text/x-python",
   "name": "python",
   "nbconvert_exporter": "python",
   "pygments_lexer": "ipython3",
   "version": "3.12.3"
  }
 },
 "nbformat": 4,
 "nbformat_minor": 2
}
