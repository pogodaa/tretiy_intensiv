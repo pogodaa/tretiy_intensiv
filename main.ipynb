{
 "cells": [
  {
   "cell_type": "markdown",
   "metadata": {},
   "source": [
    "Импорт библиотек"
   ]
  },
  {
   "cell_type": "code",
   "execution_count": 391,
   "metadata": {},
   "outputs": [],
   "source": [
    "import pandas as pd\n",
    "import seaborn as sns\n",
    "import matplotlib.pyplot as plt\n",
    "from sklearn.model_selection import TimeSeriesSplit\n",
    "from sklearn.model_selection import GridSearchCV\n",
    "from sklearn.metrics import r2_score, mean_absolute_error\n",
    "from catboost import CatBoostRegressor"
   ]
  },
  {
   "cell_type": "markdown",
   "metadata": {},
   "source": [
    "Смотрим исходные данные"
   ]
  },
  {
   "cell_type": "code",
   "execution_count": 392,
   "metadata": {},
   "outputs": [
    {
     "name": "stdout",
     "output_type": "stream",
     "text": [
      "Анализ данных для train:\n",
      "                        dt  Цена на арматуру\n",
      "count                  400        400.000000\n",
      "mean   2018-11-01 12:00:00      39229.475000\n",
      "min    2015-01-05 00:00:00      21000.000000\n",
      "25%    2016-12-03 06:00:00      31075.000000\n",
      "50%    2018-11-01 12:00:00      35450.000000\n",
      "75%    2020-09-29 18:00:00      42000.000000\n",
      "max    2022-08-29 00:00:00      79000.000000\n",
      "std                    NaN      13407.979668\n",
      "Анализ данных для test:\n",
      "                        dt  Цена на арматуру\n",
      "count                   28         28.000000\n",
      "mean   2022-12-08 12:00:00      44250.000000\n",
      "min    2022-09-05 00:00:00      40000.000000\n",
      "25%    2022-10-22 06:00:00      41925.000000\n",
      "50%    2022-12-08 12:00:00      42900.000000\n",
      "75%    2023-01-24 18:00:00      45625.000000\n",
      "max    2023-03-13 00:00:00      55500.000000\n",
      "std                    NaN       3645.951585\n"
     ]
    }
   ],
   "source": [
    "train = pd.read_excel(\"data/train.xlsx\")\n",
    "test = pd.read_excel(\"data/test.xlsx\")\n",
    "\n",
    "arr = [train, test]\n",
    "names_df = ['train', 'test']\n",
    "\n",
    "def analyze_data(data, name):\n",
    "      print(f'Анализ данных для {name}:')\n",
    "      print(data.describe())\n",
    "\n",
    "def perenos_():\n",
    "      print('\\n******************************************************************\\n')\n",
    "\n",
    "def check(model):\n",
    "      print(f\"Train data ot: {train['dt'].min()} do {train['dt'].max()} by {model}\")\n",
    "      perenos_()\n",
    "      print(f\"Test data ot: {test['dt'].min()} do {test['dt'].max()} by {model}\")\n",
    "      perenos_()\n",
    "      print(train.isna().sum())\n",
    "      perenos_()\n",
    "      print(test.isna().sum())\n",
    "\n",
    "for i, elem in enumerate(arr):\n",
    "    analyze_data(elem, names_df[i])"
   ]
  },
  {
   "cell_type": "code",
   "execution_count": 393,
   "metadata": {},
   "outputs": [
    {
     "name": "stdout",
     "output_type": "stream",
     "text": [
      "Инфо train\n",
      "<class 'pandas.core.frame.DataFrame'>\n",
      "RangeIndex: 400 entries, 0 to 399\n",
      "Data columns (total 2 columns):\n",
      " #   Column            Non-Null Count  Dtype         \n",
      "---  ------            --------------  -----         \n",
      " 0   dt                400 non-null    datetime64[ns]\n",
      " 1   Цена на арматуру  400 non-null    int64         \n",
      "dtypes: datetime64[ns](1), int64(1)\n",
      "memory usage: 6.4 KB\n",
      "\n",
      "train имеет: 400 строк, 2 столбца\n",
      "\n",
      "Кол-во 'Числовых' колонок в train: 1\n",
      "\n",
      "Кол-во 'Дата-Тайм' колонок в train: 1\n",
      "\n",
      "******************************************************************\n",
      "\n",
      "Инфо test\n",
      "<class 'pandas.core.frame.DataFrame'>\n",
      "RangeIndex: 28 entries, 0 to 27\n",
      "Data columns (total 2 columns):\n",
      " #   Column            Non-Null Count  Dtype         \n",
      "---  ------            --------------  -----         \n",
      " 0   dt                28 non-null     datetime64[ns]\n",
      " 1   Цена на арматуру  28 non-null     int64         \n",
      "dtypes: datetime64[ns](1), int64(1)\n",
      "memory usage: 580.0 bytes\n",
      "\n",
      "test имеет: 28 строк, 2 столбца\n",
      "\n",
      "Кол-во 'Числовых' колонок в test: 1\n",
      "\n",
      "Кол-во 'Дата-Тайм' колонок в test: 1\n",
      "\n",
      "******************************************************************\n",
      "\n"
     ]
    }
   ],
   "source": [
    "for i, elem in enumerate(arr):\n",
    "     # Смотрим info\n",
    "     print(f'Инфо {names_df[i]}')\n",
    "     elem.info()\n",
    "\n",
    "     # Смотрим кол-во строк + столбцов\n",
    "     print(f\"\\n{names_df[i]} имеет: {elem.shape[0]} строк, {elem.shape[1]} столбца\")\n",
    "\n",
    "     # Смотрим колонки с разными типами данных\n",
    "     numeric_columns = elem.select_dtypes(include=['int64', 'float64']).columns\n",
    "     dt_columns = elem.select_dtypes(include=['datetime64']).columns\n",
    "\n",
    "     # Выводим колонки     \n",
    "     print(f\"\\nКол-во 'Числовых' колонок в {names_df[i]}: {len(numeric_columns)}\")\n",
    "     print(f\"\\nКол-во 'Дата-Тайм' колонок в {names_df[i]}: {len(numeric_columns)}\")\n",
    "\n",
    "     perenos_()"
   ]
  },
  {
   "cell_type": "code",
   "execution_count": 394,
   "metadata": {},
   "outputs": [
    {
     "name": "stdout",
     "output_type": "stream",
     "text": [
      "                  Train  Test\n",
      "dt                    0     0\n",
      "Цена на арматуру      0     0\n"
     ]
    }
   ],
   "source": [
    "def propuski(train_data, test_data):\n",
    "    isxod_train = train_data.isnull().sum()\n",
    "    isxod_test = test_data.isnull().sum()\n",
    "\n",
    "    # Объединяем результаты в DataFrame\n",
    "    combined_isxod = pd.concat([isxod_train, isxod_test], axis=1)\n",
    "    combined_isxod.columns = ['Train', 'Test']\n",
    "\n",
    "    # Выводим результат\n",
    "    print(combined_isxod)\n",
    "\n",
    "propuski(train, test)"
   ]
  },
  {
   "cell_type": "code",
   "execution_count": 395,
   "metadata": {},
   "outputs": [
    {
     "data": {
      "text/html": [
       "<div>\n",
       "<style scoped>\n",
       "    .dataframe tbody tr th:only-of-type {\n",
       "        vertical-align: middle;\n",
       "    }\n",
       "\n",
       "    .dataframe tbody tr th {\n",
       "        vertical-align: top;\n",
       "    }\n",
       "\n",
       "    .dataframe thead th {\n",
       "        text-align: right;\n",
       "    }\n",
       "</style>\n",
       "<table border=\"1\" class=\"dataframe\">\n",
       "  <thead>\n",
       "    <tr style=\"text-align: right;\">\n",
       "      <th></th>\n",
       "      <th>dt</th>\n",
       "      <th>Цена на арматуру</th>\n",
       "    </tr>\n",
       "  </thead>\n",
       "  <tbody>\n",
       "    <tr>\n",
       "      <th>0</th>\n",
       "      <td>2015-01-05</td>\n",
       "      <td>32900</td>\n",
       "    </tr>\n",
       "    <tr>\n",
       "      <th>1</th>\n",
       "      <td>2015-01-12</td>\n",
       "      <td>32500</td>\n",
       "    </tr>\n",
       "    <tr>\n",
       "      <th>2</th>\n",
       "      <td>2015-01-19</td>\n",
       "      <td>32000</td>\n",
       "    </tr>\n",
       "  </tbody>\n",
       "</table>\n",
       "</div>"
      ],
      "text/plain": [
       "          dt  Цена на арматуру\n",
       "0 2015-01-05             32900\n",
       "1 2015-01-12             32500\n",
       "2 2015-01-19             32000"
      ]
     },
     "execution_count": 395,
     "metadata": {},
     "output_type": "execute_result"
    }
   ],
   "source": [
    "train.head(3)"
   ]
  },
  {
   "cell_type": "code",
   "execution_count": 396,
   "metadata": {},
   "outputs": [
    {
     "data": {
      "text/html": [
       "<div>\n",
       "<style scoped>\n",
       "    .dataframe tbody tr th:only-of-type {\n",
       "        vertical-align: middle;\n",
       "    }\n",
       "\n",
       "    .dataframe tbody tr th {\n",
       "        vertical-align: top;\n",
       "    }\n",
       "\n",
       "    .dataframe thead th {\n",
       "        text-align: right;\n",
       "    }\n",
       "</style>\n",
       "<table border=\"1\" class=\"dataframe\">\n",
       "  <thead>\n",
       "    <tr style=\"text-align: right;\">\n",
       "      <th></th>\n",
       "      <th>dt</th>\n",
       "      <th>Цена на арматуру</th>\n",
       "    </tr>\n",
       "  </thead>\n",
       "  <tbody>\n",
       "    <tr>\n",
       "      <th>0</th>\n",
       "      <td>2022-09-05</td>\n",
       "      <td>46000</td>\n",
       "    </tr>\n",
       "    <tr>\n",
       "      <th>1</th>\n",
       "      <td>2022-09-12</td>\n",
       "      <td>46000</td>\n",
       "    </tr>\n",
       "    <tr>\n",
       "      <th>2</th>\n",
       "      <td>2022-09-19</td>\n",
       "      <td>46000</td>\n",
       "    </tr>\n",
       "  </tbody>\n",
       "</table>\n",
       "</div>"
      ],
      "text/plain": [
       "          dt  Цена на арматуру\n",
       "0 2022-09-05             46000\n",
       "1 2022-09-12             46000\n",
       "2 2022-09-19             46000"
      ]
     },
     "execution_count": 396,
     "metadata": {},
     "output_type": "execute_result"
    }
   ],
   "source": [
    "test.head(3)"
   ]
  },
  {
   "cell_type": "code",
   "execution_count": 397,
   "metadata": {},
   "outputs": [
    {
     "name": "stdout",
     "output_type": "stream",
     "text": [
      "Train data ot: 2015-01-05 00:00:00 do 2022-08-29 00:00:00 by CatBoost\n",
      "\n",
      "******************************************************************\n",
      "\n",
      "Test data ot: 2022-09-05 00:00:00 do 2023-03-13 00:00:00 by CatBoost\n",
      "\n",
      "******************************************************************\n",
      "\n",
      "dt                  0\n",
      "Цена на арматуру    0\n",
      "dtype: int64\n",
      "\n",
      "******************************************************************\n",
      "\n",
      "dt                  0\n",
      "Цена на арматуру    0\n",
      "dtype: int64\n"
     ]
    }
   ],
   "source": [
    "check('CatBoost')"
   ]
  },
  {
   "cell_type": "markdown",
   "metadata": {},
   "source": [
    "Обучение // модель CatBoost"
   ]
  },
  {
   "cell_type": "code",
   "execution_count": 398,
   "metadata": {},
   "outputs": [
    {
     "name": "stdout",
     "output_type": "stream",
     "text": [
      "R2: 0.9985497390699755\n",
      "MAE: 401.69121495187665\n"
     ]
    }
   ],
   "source": [
    "# Временные признаки\n",
    "train['year']=train['dt'].dt.year\n",
    "train['month']=train['dt'].dt.month \n",
    "train['weekday']=train['dt'].dt.weekday # возвращает день недели для каждой даты в формате, понедельник 0, вторник 1, и т.д.\n",
    "train[\"dayofyear\"] = train[\"dt\"].dt.dayofyear \n",
    "train[\"quarter\"] = train[\"dt\"].dt.quarter\n",
    "\n",
    "# Лаги\n",
    "# Учитывается последние 5 недель, позволяет модели учитывать предыдущие значения при прогнозировании текущего\n",
    "for lag in range(1, 6):\n",
    "      train[f\"lag_{lag}\"] = train[\"Цена на арматуру\"].shift(lag)\n",
    "\n",
    "# Скользящее среднее\n",
    "train['rolling_mean_3'] = train['Цена на арматуру'].rolling(window=3).mean() # Вычисление 3-недельного скользящего среднего\n",
    "train['rolling_mean_6'] = train['Цена на арматуру'].rolling(window=6).mean() # Вычисление 6-недельного скользящего среднего\n",
    "\n",
    "# Производные признаки\n",
    "train[\"diff_1\"] = train[\"Цена на арматуру\"].diff(1)\n",
    "train[\"diff_2\"] = train[\"Цена на арматуру\"].diff(2)\n",
    "train[\"diff_3\"] = train[\"Цена на арматуру\"].diff(3)\n",
    "\n",
    "train = train.dropna()\n",
    "\n",
    "# Разделение данных c помощью кросс-валидации (TimeSeriesSplit)\n",
    "X = train.drop(columns=[\"dt\", \"Цена на арматуру\"])\n",
    "y = train[\"Цена на арматуру\"]\n",
    "\n",
    "TSSplit = TimeSeriesSplit(n_splits=5)\n",
    "\n",
    "# Подбор гиперпараметров\n",
    "param_grid = {\n",
    "    'iterations': [100], # Кол-во деревьев\n",
    "    'depth': [3, 5], # Максимальная глубина дерева\n",
    "    'learning_rate': [0.1, 0.2], # Скорость обучения\n",
    "    'l2_leaf_reg': [1, 2] # Контроль величины весов дерева (Регуляризация)\n",
    "}\n",
    "\n",
    "# Модель\n",
    "model = CatBoostRegressor(random_seed=42, verbose=0)\n",
    "grid_search = GridSearchCV(model, param_grid, cv=TSSplit, scoring='neg_mean_absolute_error', n_jobs=-1)\n",
    "grid_search.fit(X, y)\n",
    "\n",
    "# Оценка модели\n",
    "y_pred = grid_search.predict(X)\n",
    "r2 = r2_score(y, y_pred)  # r2\n",
    "mae = mean_absolute_error(y, y_pred) # mae\n",
    "\n",
    "print(f\"R2: {r2}\")\n",
    "print(f\"MAE: {mae}\")"
   ]
  },
  {
   "cell_type": "code",
   "execution_count": 399,
   "metadata": {},
   "outputs": [
    {
     "name": "stdout",
     "output_type": "stream",
     "text": [
      "Test R2: 0.9069309134809962\n",
      "Test MAE: 966.9710319708485\n"
     ]
    }
   ],
   "source": [
    "# Временные признаки\n",
    "test['year']=test['dt'].dt.year\n",
    "test['month']=test['dt'].dt.month \n",
    "test['weekday']=test['dt'].dt.weekday\n",
    "test[\"dayofyear\"] = test[\"dt\"].dt.dayofyear \n",
    "test[\"quarter\"] = test[\"dt\"].dt.quarter\n",
    "\n",
    "# Лаги (учитываются последние 5 недель)\n",
    "for lag in range(1, 6):\n",
    "    test[f\"lag_{lag}\"] = test[\"Цена на арматуру\"].shift(lag)\n",
    "\n",
    "# Вычисление скользящего среднего для тестового набора\n",
    "test['rolling_mean_3'] = test['Цена на арматуру'].rolling(window=3).mean()\n",
    "test['rolling_mean_6'] = test['Цена на арматуру'].rolling(window=6).mean()\n",
    "\n",
    "# Производные признаки\n",
    "test[\"diff_1\"] = test[\"Цена на арматуру\"].diff(1)\n",
    "test[\"diff_2\"] = test[\"Цена на арматуру\"].diff(2)\n",
    "test[\"diff_3\"] = test[\"Цена на арматуру\"].diff(3)\n",
    "\n",
    "test = test.dropna()\n",
    "\n",
    "X_test = test.drop(columns=[\"dt\", \"Цена на арматуру\"])\n",
    "y_test = test[\"Цена на арматуру\"]\n",
    "\n",
    "y_pred = grid_search.predict(X_test)\n",
    "\n",
    "# Оценка модели\n",
    "test_r2 = r2_score(y_test, y_pred)\n",
    "test_mae = mean_absolute_error(y_test, y_pred) \n",
    "\n",
    "print(f\"Test R2: {test_r2}\")\n",
    "print(f\"Test MAE: {test_mae}\")"
   ]
  },
  {
   "cell_type": "code",
   "execution_count": 400,
   "metadata": {},
   "outputs": [
    {
     "data": {
      "image/png": "[encoded data removed]",
      "text/plain": [
       "<Figure size 1200x600 with 1 Axes>"
      ]
     },
     "metadata": {},
     "output_type": "display_data"
    }
   ],
   "source": [
    "plt.figure(figsize=(12, 6))\n",
    "plt.plot(train['dt'], y, label='Train', color='blue')  # фактические значения для обучения\n",
    "plt.plot(test['dt'], y_test, label='Actual Test', color='orange')  # фактические значения для тестирования\n",
    "plt.plot(test['dt'], y_pred, label='Predicted', color='red', linestyle='dashed')  # предсказанные значения\n",
    "plt.xlabel('Дата')\n",
    "plt.ylabel('Цена на арматуру')\n",
    "plt.title('Фактические vs Предсказанные значения CatBoost')\n",
    "plt.legend()\n",
    "plt.grid()\n",
    "plt.show()"
   ]
  },
  {
   "cell_type": "markdown",
   "metadata": {},
   "source": [
    "Смотрим и сравниваем"
   ]
  },
  {
   "cell_type": "code",
   "execution_count": 401,
   "metadata": {},
   "outputs": [
    {
     "name": "stdout",
     "output_type": "stream",
     "text": [
      "Train data ot: 2015-02-09 00:00:00 do 2022-08-29 00:00:00 by CatBoost\n",
      "\n",
      "******************************************************************\n",
      "\n",
      "Test data ot: 2022-10-10 00:00:00 do 2023-03-13 00:00:00 by CatBoost\n",
      "\n",
      "******************************************************************\n",
      "\n",
      "dt                  0\n",
      "Цена на арматуру    0\n",
      "year                0\n",
      "month               0\n",
      "weekday             0\n",
      "dayofyear           0\n",
      "quarter             0\n",
      "lag_1               0\n",
      "lag_2               0\n",
      "lag_3               0\n",
      "lag_4               0\n",
      "lag_5               0\n",
      "rolling_mean_3      0\n",
      "rolling_mean_6      0\n",
      "diff_1              0\n",
      "diff_2              0\n",
      "diff_3              0\n",
      "dtype: int64\n",
      "\n",
      "******************************************************************\n",
      "\n",
      "dt                  0\n",
      "Цена на арматуру    0\n",
      "year                0\n",
      "month               0\n",
      "weekday             0\n",
      "dayofyear           0\n",
      "quarter             0\n",
      "lag_1               0\n",
      "lag_2               0\n",
      "lag_3               0\n",
      "lag_4               0\n",
      "lag_5               0\n",
      "rolling_mean_3      0\n",
      "rolling_mean_6      0\n",
      "diff_1              0\n",
      "diff_2              0\n",
      "diff_3              0\n",
      "dtype: int64\n"
     ]
    }
   ],
   "source": [
    "check('CatBoost')"
   ]
  }
 ],
 "metadata": {
  "kernelspec": {
   "display_name": "Python 3",
   "language": "python",
   "name": "python3"
  },
  "language_info": {
   "codemirror_mode": {
    "name": "ipython",
    "version": 3
   },
   "file_extension": ".py",
   "mimetype": "text/x-python",
   "name": "python",
   "nbconvert_exporter": "python",
   "pygments_lexer": "ipython3",
   "version": "3.12.3"
  }
 },
 "nbformat": 4,
 "nbformat_minor": 2
}
